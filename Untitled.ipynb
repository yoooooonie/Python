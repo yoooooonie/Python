{
 "cells": [
  {
   "cell_type": "code",
   "execution_count": null,
   "id": "e1159ed9",
   "metadata": {},
   "outputs": [],
   "source": [
    "# 출력을 원하실 경우 print() 함수 활용\n",
    "# 예시) print(df.head())\n",
    "\n",
    "# getcwd(), chdir() 등 작업 폴더 설정 불필요\n",
    "# 파일 경로 상 내부 드라이브 경로(C: 등) 접근 불가\n",
    "\n",
    "# 데이터 파일 읽기 예제\n",
    "import pandas as pd\n",
    "x_test = pd.read_csv(\"data/X_test.csv\")\n",
    "x = pd.read_csv(\"data/X_train.csv\")\n",
    "y = pd.read_csv(\"data/y_train.csv\")\n",
    "\n",
    "# 사용자 코딩\n",
    "import numpy as np\n",
    "# print(x.isna().sum())\n",
    "x = x.fillna(0)\n",
    "# print(x.isna().sum())\n",
    "x_test= x_test.fillna(0)\n",
    "\n",
    "x = x.drop(['cust_id'], axis=1)\n",
    "cust_id_test = x_test.pop('cust_id')\n",
    "\n",
    "from sklearn.preprocessing import LabelEncoder\n",
    "cols = ['주구매상품','주구매지점']\n",
    "for col in cols:\n",
    "\tle = LabelEncoder()\n",
    "\tx[col] = le.fit_transform(x[col])\n",
    "\tx_test[col] = le.fit_transform(x_test[col])\n",
    "\t\n",
    "from sklearn.ensemble import RandomForestClassifier\n",
    "model = RandomForestClassifier(n_estimators=100, max_depth=5, random_state=0)\n",
    "model.fit(x,y['gender'])\n",
    "predictions = model.predict_proba(x_test)\n",
    "\n",
    "output = pd.DataFrame({'cust_id':cust_id_test, 'gender':predictions[:,1]})\n",
    "output.to_csv('oooo.csv', index=False)\n",
    "\n",
    "\n",
    "# 답안 제출 참고\n",
    "# 아래 코드 예측변수와 수험번호를 개인별로 변경하여 활용\n",
    "# pd.DataFrame({'cust_id': X_test.cust_id, 'gender': pred}).to_csv('003000000.csv', index=False)\n"
   ]
  }
 ],
 "metadata": {
  "kernelspec": {
   "display_name": "Python 3",
   "language": "python",
   "name": "python3"
  },
  "language_info": {
   "codemirror_mode": {
    "name": "ipython",
    "version": 3
   },
   "file_extension": ".py",
   "mimetype": "text/x-python",
   "name": "python",
   "nbconvert_exporter": "python",
   "pygments_lexer": "ipython3",
   "version": "3.8.8"
  }
 },
 "nbformat": 4,
 "nbformat_minor": 5
}

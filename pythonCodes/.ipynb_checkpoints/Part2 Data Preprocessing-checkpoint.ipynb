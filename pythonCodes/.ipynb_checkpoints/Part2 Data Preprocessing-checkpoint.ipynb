{
 "cells": [
  {
   "cell_type": "markdown",
   "id": "65200244",
   "metadata": {},
   "source": [
    "# Part2. 데이터탐색과 데이터정제"
   ]
  },
  {
   "cell_type": "code",
   "execution_count": 4,
   "id": "067d6658",
   "metadata": {},
   "outputs": [],
   "source": [
    "import pandas as pd\n",
    "import numpy as np\n",
    "data=pd.read_csv('C:/Users/kwkan/pythonStudy/sampleData/Ex_CEOSalary.csv',encoding='utf-8')"
   ]
  },
  {
   "cell_type": "code",
   "execution_count": 5,
   "id": "81ea2362",
   "metadata": {},
   "outputs": [
    {
     "name": "stdout",
     "output_type": "stream",
     "text": [
      "<class 'pandas.core.frame.DataFrame'>\n",
      "RangeIndex: 209 entries, 0 to 208\n",
      "Data columns (total 4 columns):\n",
      " #   Column    Non-Null Count  Dtype  \n",
      "---  ------    --------------  -----  \n",
      " 0   salary    209 non-null    int64  \n",
      " 1   sales     209 non-null    float64\n",
      " 2   roe       209 non-null    float64\n",
      " 3   industry  209 non-null    int64  \n",
      "dtypes: float64(2), int64(2)\n",
      "memory usage: 6.7 KB\n"
     ]
    }
   ],
   "source": [
    "data.info()"
   ]
  },
  {
   "cell_type": "code",
   "execution_count": 7,
   "id": "8d08a6b3",
   "metadata": {},
   "outputs": [
    {
     "data": {
      "text/html": [
       "<div>\n",
       "<style scoped>\n",
       "    .dataframe tbody tr th:only-of-type {\n",
       "        vertical-align: middle;\n",
       "    }\n",
       "\n",
       "    .dataframe tbody tr th {\n",
       "        vertical-align: top;\n",
       "    }\n",
       "\n",
       "    .dataframe thead th {\n",
       "        text-align: right;\n",
       "    }\n",
       "</style>\n",
       "<table border=\"1\" class=\"dataframe\">\n",
       "  <thead>\n",
       "    <tr style=\"text-align: right;\">\n",
       "      <th></th>\n",
       "      <th>salary</th>\n",
       "      <th>sales</th>\n",
       "      <th>roe</th>\n",
       "      <th>industry</th>\n",
       "    </tr>\n",
       "  </thead>\n",
       "  <tbody>\n",
       "    <tr>\n",
       "      <th>0</th>\n",
       "      <td>1095</td>\n",
       "      <td>27595.000000</td>\n",
       "      <td>14.1</td>\n",
       "      <td>1</td>\n",
       "    </tr>\n",
       "    <tr>\n",
       "      <th>1</th>\n",
       "      <td>1001</td>\n",
       "      <td>9958.000000</td>\n",
       "      <td>10.9</td>\n",
       "      <td>1</td>\n",
       "    </tr>\n",
       "    <tr>\n",
       "      <th>2</th>\n",
       "      <td>1122</td>\n",
       "      <td>6125.899902</td>\n",
       "      <td>23.5</td>\n",
       "      <td>1</td>\n",
       "    </tr>\n",
       "    <tr>\n",
       "      <th>3</th>\n",
       "      <td>578</td>\n",
       "      <td>16246.000000</td>\n",
       "      <td>5.9</td>\n",
       "      <td>1</td>\n",
       "    </tr>\n",
       "    <tr>\n",
       "      <th>4</th>\n",
       "      <td>1368</td>\n",
       "      <td>21783.199219</td>\n",
       "      <td>13.8</td>\n",
       "      <td>1</td>\n",
       "    </tr>\n",
       "  </tbody>\n",
       "</table>\n",
       "</div>"
      ],
      "text/plain": [
       "   salary         sales   roe  industry\n",
       "0    1095  27595.000000  14.1         1\n",
       "1    1001   9958.000000  10.9         1\n",
       "2    1122   6125.899902  23.5         1\n",
       "3     578  16246.000000   5.9         1\n",
       "4    1368  21783.199219  13.8         1"
      ]
     },
     "execution_count": 7,
     "metadata": {},
     "output_type": "execute_result"
    }
   ],
   "source": [
    "data.head()"
   ]
  },
  {
   "cell_type": "code",
   "execution_count": 8,
   "id": "77b3cc2f",
   "metadata": {},
   "outputs": [
    {
     "data": {
      "text/plain": [
       "1    72\n",
       "3    60\n",
       "2    46\n",
       "4    31\n",
       "Name: industry, dtype: int64"
      ]
     },
     "execution_count": 8,
     "metadata": {},
     "output_type": "execute_result"
    }
   ],
   "source": [
    "data['industry'].value_counts()"
   ]
  },
  {
   "cell_type": "code",
   "execution_count": 9,
   "id": "670b1226",
   "metadata": {},
   "outputs": [
    {
     "data": {
      "text/plain": [
       "Service    72\n",
       "Finance    60\n",
       "IT         46\n",
       "Others     31\n",
       "Name: industry, dtype: int64"
      ]
     },
     "execution_count": 9,
     "metadata": {},
     "output_type": "execute_result"
    }
   ],
   "source": [
    "data['industry'] = data['industry'].replace([1,2,3,4], ['Service','IT','Finance','Others'])\n",
    "data['industry'].value_counts()"
   ]
  },
  {
   "cell_type": "code",
   "execution_count": 13,
   "id": "61bc1981",
   "metadata": {},
   "outputs": [
    {
     "name": "stderr",
     "output_type": "stream",
     "text": [
      "UsageError: unrecognized arguments: #패키지를 가져와 코드안에 수행 한다는 의미\n"
     ]
    }
   ],
   "source": [
    "%matplotlib inline #패키지를 가져와 코드안에 수행 한다는 의미\n",
    "data['industry'].value_counts().plot(kind=\"pie\") #종류를 pie로 선택\n",
    "data['industry'].value_counts().plot(kind=\"bar\") #종류를 bar로 선택"
   ]
  },
  {
   "cell_type": "code",
   "execution_count": 15,
   "id": "69228488",
   "metadata": {},
   "outputs": [
    {
     "data": {
      "text/plain": [
       "<AxesSubplot:>"
      ]
     },
     "execution_count": 15,
     "metadata": {},
     "output_type": "execute_result"
    },
    {
     "data": {
      "image/png": "[encoded data removed]",
      "text/plain": [
       "<Figure size 432x288 with 1 Axes>"
      ]
     },
     "metadata": {
      "needs_background": "light"
     },
     "output_type": "display_data"
    }
   ],
   "source": [
    "%matplotlib inline \n",
    "##data['industry'].value_counts().plot(kind=\"pie\") \n",
    "data['industry'].value_counts().plot(kind=\"bar\") "
   ]
  },
  {
   "cell_type": "code",
   "execution_count": 16,
   "id": "8dc7854f",
   "metadata": {},
   "outputs": [
    {
     "data": {
      "text/html": [
       "<div>\n",
       "<style scoped>\n",
       "    .dataframe tbody tr th:only-of-type {\n",
       "        vertical-align: middle;\n",
       "    }\n",
       "\n",
       "    .dataframe tbody tr th {\n",
       "        vertical-align: top;\n",
       "    }\n",
       "\n",
       "    .dataframe thead th {\n",
       "        text-align: right;\n",
       "    }\n",
       "</style>\n",
       "<table border=\"1\" class=\"dataframe\">\n",
       "  <thead>\n",
       "    <tr style=\"text-align: right;\">\n",
       "      <th></th>\n",
       "      <th>salary</th>\n",
       "      <th>sales</th>\n",
       "      <th>roe</th>\n",
       "    </tr>\n",
       "  </thead>\n",
       "  <tbody>\n",
       "    <tr>\n",
       "      <th>count</th>\n",
       "      <td>209.000000</td>\n",
       "      <td>209.000000</td>\n",
       "      <td>209.000000</td>\n",
       "    </tr>\n",
       "    <tr>\n",
       "      <th>mean</th>\n",
       "      <td>1281.119617</td>\n",
       "      <td>6923.793282</td>\n",
       "      <td>17.184211</td>\n",
       "    </tr>\n",
       "    <tr>\n",
       "      <th>std</th>\n",
       "      <td>1372.345308</td>\n",
       "      <td>10633.271088</td>\n",
       "      <td>8.518509</td>\n",
       "    </tr>\n",
       "    <tr>\n",
       "      <th>min</th>\n",
       "      <td>223.000000</td>\n",
       "      <td>175.199997</td>\n",
       "      <td>0.500000</td>\n",
       "    </tr>\n",
       "    <tr>\n",
       "      <th>25%</th>\n",
       "      <td>736.000000</td>\n",
       "      <td>2210.300049</td>\n",
       "      <td>12.400000</td>\n",
       "    </tr>\n",
       "    <tr>\n",
       "      <th>50%</th>\n",
       "      <td>1039.000000</td>\n",
       "      <td>3705.199951</td>\n",
       "      <td>15.500000</td>\n",
       "    </tr>\n",
       "    <tr>\n",
       "      <th>75%</th>\n",
       "      <td>1407.000000</td>\n",
       "      <td>7177.000000</td>\n",
       "      <td>20.000000</td>\n",
       "    </tr>\n",
       "    <tr>\n",
       "      <th>max</th>\n",
       "      <td>14822.000000</td>\n",
       "      <td>97649.898438</td>\n",
       "      <td>56.299999</td>\n",
       "    </tr>\n",
       "  </tbody>\n",
       "</table>\n",
       "</div>"
      ],
      "text/plain": [
       "             salary         sales         roe\n",
       "count    209.000000    209.000000  209.000000\n",
       "mean    1281.119617   6923.793282   17.184211\n",
       "std     1372.345308  10633.271088    8.518509\n",
       "min      223.000000    175.199997    0.500000\n",
       "25%      736.000000   2210.300049   12.400000\n",
       "50%     1039.000000   3705.199951   15.500000\n",
       "75%     1407.000000   7177.000000   20.000000\n",
       "max    14822.000000  97649.898438   56.299999"
      ]
     },
     "execution_count": 16,
     "metadata": {},
     "output_type": "execute_result"
    }
   ],
   "source": [
    "#기술통계량\n",
    "data.describe()"
   ]
  },
  {
   "cell_type": "code",
   "execution_count": 17,
   "id": "f907692f",
   "metadata": {},
   "outputs": [
    {
     "data": {
      "text/plain": [
       "salary    6.904577\n",
       "sales     5.035336\n",
       "roe       1.572126\n",
       "dtype: float64"
      ]
     },
     "execution_count": 17,
     "metadata": {},
     "output_type": "execute_result"
    }
   ],
   "source": [
    "#왜도와 첨도 확인하여 정규분포와 유사한지를 검토\n",
    "data.skew() ##왜도    "
   ]
  },
  {
   "cell_type": "code",
   "execution_count": 18,
   "id": "da8e2720",
   "metadata": {},
   "outputs": [
    {
     "data": {
      "text/plain": [
       "salary    58.971229\n",
       "sales     33.115193\n",
       "roe        3.797366\n",
       "dtype: float64"
      ]
     },
     "execution_count": 18,
     "metadata": {},
     "output_type": "execute_result"
    }
   ],
   "source": [
    "data.kurtosis()##첨도"
   ]
  },
  {
   "cell_type": "code",
   "execution_count": 61,
   "id": "69894dda",
   "metadata": {},
   "outputs": [
    {
     "data": {
      "text/plain": [
       "array([[<AxesSubplot:title={'center':'salary'}>,\n",
       "        <AxesSubplot:title={'center':'sales'}>],\n",
       "       [<AxesSubplot:title={'center':'roe'}>, <AxesSubplot:>]],\n",
       "      dtype=object)"
      ]
     },
     "execution_count": 61,
     "metadata": {},
     "output_type": "execute_result"
    },
    {
     "data": {
      "image/png": "[encoded data removed]",
      "text/plain": [
       "<Figure size 1440x1080 with 4 Axes>"
      ]
     },
     "metadata": {
      "needs_background": "light"
     },
     "output_type": "display_data"
    }
   ],
   "source": [
    "import matplotlib.pyplot as plt\n",
    "data.hist(bins=50, figsize=(20,15))"
   ]
  },
  {
   "cell_type": "code",
   "execution_count": 62,
   "id": "7286a1b9",
   "metadata": {},
   "outputs": [
    {
     "data": {
      "text/plain": [
       "<AxesSubplot:>"
      ]
     },
     "execution_count": 62,
     "metadata": {},
     "output_type": "execute_result"
    },
    {
     "data": {
      "image/png": "[encoded data removed]",
      "text/plain": [
       "<Figure size 1440x1080 with 1 Axes>"
      ]
     },
     "metadata": {
      "needs_background": "light"
     },
     "output_type": "display_data"
    }
   ],
   "source": [
    "data['salary'].hist(bins=50, figsize=(20,15))"
   ]
  },
  {
   "cell_type": "code",
   "execution_count": 63,
   "id": "13000663",
   "metadata": {},
   "outputs": [
    {
     "data": {
      "text/html": [
       "<div>\n",
       "<style scoped>\n",
       "    .dataframe tbody tr th:only-of-type {\n",
       "        vertical-align: middle;\n",
       "    }\n",
       "\n",
       "    .dataframe tbody tr th {\n",
       "        vertical-align: top;\n",
       "    }\n",
       "\n",
       "    .dataframe thead th {\n",
       "        text-align: right;\n",
       "    }\n",
       "</style>\n",
       "<table border=\"1\" class=\"dataframe\">\n",
       "  <thead>\n",
       "    <tr style=\"text-align: right;\">\n",
       "      <th></th>\n",
       "      <th>salary</th>\n",
       "      <th>sales</th>\n",
       "      <th>roe</th>\n",
       "    </tr>\n",
       "  </thead>\n",
       "  <tbody>\n",
       "    <tr>\n",
       "      <th>salary</th>\n",
       "      <td>1.000000</td>\n",
       "      <td>0.119869</td>\n",
       "      <td>0.114842</td>\n",
       "    </tr>\n",
       "    <tr>\n",
       "      <th>sales</th>\n",
       "      <td>0.119869</td>\n",
       "      <td>1.000000</td>\n",
       "      <td>-0.055386</td>\n",
       "    </tr>\n",
       "    <tr>\n",
       "      <th>roe</th>\n",
       "      <td>0.114842</td>\n",
       "      <td>-0.055386</td>\n",
       "      <td>1.000000</td>\n",
       "    </tr>\n",
       "  </tbody>\n",
       "</table>\n",
       "</div>"
      ],
      "text/plain": [
       "          salary     sales       roe\n",
       "salary  1.000000  0.119869  0.114842\n",
       "sales   0.119869  1.000000 -0.055386\n",
       "roe     0.114842 -0.055386  1.000000"
      ]
     },
     "execution_count": 63,
     "metadata": {},
     "output_type": "execute_result"
    }
   ],
   "source": [
    "#상관계수 파악하는 method를 지정할 수 있다. \n",
    "#default는 pearson이며, spearman, kendall 도 가능\n",
    "data.corr() #두 변수 간의 상관계수를 파악할 수 있다\n",
    "#data.corr(method='pearson')\n",
    "#data.corr(method='spearman')\n",
    "#data.corr(method='kendall')\n"
   ]
  },
  {
   "cell_type": "code",
   "execution_count": 64,
   "id": "bc99f224",
   "metadata": {},
   "outputs": [
    {
     "data": {
      "image/png": "[encoded data removed]",
      "text/plain": [
       "<Figure size 432x288 with 1 Axes>"
      ]
     },
     "metadata": {
      "needs_background": "light"
     },
     "output_type": "display_data"
    }
   ],
   "source": [
    "#산점도 그리기\n",
    "import matplotlib.pyplot as plt\n",
    "plt.scatter(data['sales'], data['salary'], alpha=0.5)\n",
    "plt.show()\n",
    "#결과를 보면 큰 이상치 때문에 관계가 왜곡되고 있다는 것을 파악할 수 있다"
   ]
  },
  {
   "cell_type": "code",
   "execution_count": 65,
   "id": "8454c6be",
   "metadata": {
    "scrolled": true
   },
   "outputs": [
    {
     "data": {
      "image/png": "[encoded data removed]",
      "text/plain": [
       "<Figure size 432x288 with 1 Axes>"
      ]
     },
     "metadata": {
      "needs_background": "light"
     },
     "output_type": "display_data"
    }
   ],
   "source": [
    "plt.scatter(data['roe'], data['salary'], alpha=0.5)\n",
    "plt.show()\n",
    "#roe도 마찬가지로 결과를 보면 큰 이상치 때문에 관계가 왜곡되고 있다는 것을 파악할 수 있다"
   ]
  },
  {
   "cell_type": "code",
   "execution_count": 66,
   "id": "9d945938",
   "metadata": {},
   "outputs": [
    {
     "data": {
      "text/html": [
       "<div>\n",
       "<style scoped>\n",
       "    .dataframe tbody tr th:only-of-type {\n",
       "        vertical-align: middle;\n",
       "    }\n",
       "\n",
       "    .dataframe tbody tr th {\n",
       "        vertical-align: top;\n",
       "    }\n",
       "\n",
       "    .dataframe thead tr th {\n",
       "        text-align: left;\n",
       "    }\n",
       "\n",
       "    .dataframe thead tr:last-of-type th {\n",
       "        text-align: right;\n",
       "    }\n",
       "</style>\n",
       "<table border=\"1\" class=\"dataframe\">\n",
       "  <thead>\n",
       "    <tr>\n",
       "      <th></th>\n",
       "      <th colspan=\"8\" halign=\"left\">salary</th>\n",
       "    </tr>\n",
       "    <tr>\n",
       "      <th></th>\n",
       "      <th>count</th>\n",
       "      <th>mean</th>\n",
       "      <th>std</th>\n",
       "      <th>min</th>\n",
       "      <th>25%</th>\n",
       "      <th>50%</th>\n",
       "      <th>75%</th>\n",
       "      <th>max</th>\n",
       "    </tr>\n",
       "    <tr>\n",
       "      <th>industry</th>\n",
       "      <th></th>\n",
       "      <th></th>\n",
       "      <th></th>\n",
       "      <th></th>\n",
       "      <th></th>\n",
       "      <th></th>\n",
       "      <th></th>\n",
       "      <th></th>\n",
       "    </tr>\n",
       "  </thead>\n",
       "  <tbody>\n",
       "    <tr>\n",
       "      <th>Finance</th>\n",
       "      <td>60.0</td>\n",
       "      <td>1722.416667</td>\n",
       "      <td>2242.687041</td>\n",
       "      <td>223.0</td>\n",
       "      <td>911.00</td>\n",
       "      <td>1246.0</td>\n",
       "      <td>1643.75</td>\n",
       "      <td>14822.0</td>\n",
       "    </tr>\n",
       "    <tr>\n",
       "      <th>IT</th>\n",
       "      <td>46.0</td>\n",
       "      <td>1344.913043</td>\n",
       "      <td>1002.813128</td>\n",
       "      <td>441.0</td>\n",
       "      <td>884.00</td>\n",
       "      <td>1119.5</td>\n",
       "      <td>1406.00</td>\n",
       "      <td>6640.0</td>\n",
       "    </tr>\n",
       "    <tr>\n",
       "      <th>Others</th>\n",
       "      <td>31.0</td>\n",
       "      <td>627.870968</td>\n",
       "      <td>175.264323</td>\n",
       "      <td>333.0</td>\n",
       "      <td>501.50</td>\n",
       "      <td>607.0</td>\n",
       "      <td>726.00</td>\n",
       "      <td>1100.0</td>\n",
       "    </tr>\n",
       "    <tr>\n",
       "      <th>Service</th>\n",
       "      <td>72.0</td>\n",
       "      <td>1153.875000</td>\n",
       "      <td>563.472032</td>\n",
       "      <td>256.0</td>\n",
       "      <td>811.25</td>\n",
       "      <td>1064.0</td>\n",
       "      <td>1348.50</td>\n",
       "      <td>3844.0</td>\n",
       "    </tr>\n",
       "  </tbody>\n",
       "</table>\n",
       "</div>"
      ],
      "text/plain": [
       "         salary                                                            \\\n",
       "          count         mean          std    min     25%     50%      75%   \n",
       "industry                                                                    \n",
       "Finance    60.0  1722.416667  2242.687041  223.0  911.00  1246.0  1643.75   \n",
       "IT         46.0  1344.913043  1002.813128  441.0  884.00  1119.5  1406.00   \n",
       "Others     31.0   627.870968   175.264323  333.0  501.50   607.0   726.00   \n",
       "Service    72.0  1153.875000   563.472032  256.0  811.25  1064.0  1348.50   \n",
       "\n",
       "                   \n",
       "              max  \n",
       "industry           \n",
       "Finance   14822.0  \n",
       "IT         6640.0  \n",
       "Others     1100.0  \n",
       "Service    3844.0  "
      ]
     },
     "execution_count": 66,
     "metadata": {},
     "output_type": "execute_result"
    }
   ],
   "source": [
    "data.groupby('industry')[['salary']].describe()"
   ]
  },
  {
   "cell_type": "markdown",
   "id": "4bab158f",
   "metadata": {},
   "source": [
    "# 이상치 처리"
   ]
  },
  {
   "cell_type": "code",
   "execution_count": 67,
   "id": "19edaebd",
   "metadata": {},
   "outputs": [
    {
     "data": {
      "text/plain": [
       "Boxplot(ax=<AxesSubplot:>, lines={'whiskers': [<matplotlib.lines.Line2D object at 0x000001AF78B06C40>, <matplotlib.lines.Line2D object at 0x000001AF78B06FA0>], 'caps': [<matplotlib.lines.Line2D object at 0x000001AF78B15340>, <matplotlib.lines.Line2D object at 0x000001AF78B156A0>], 'boxes': [<matplotlib.lines.Line2D object at 0x000001AF78B068E0>], 'medians': [<matplotlib.lines.Line2D object at 0x000001AF78B15A00>], 'fliers': [<matplotlib.lines.Line2D object at 0x000001AF78B15D60>], 'means': []})"
      ]
     },
     "execution_count": 67,
     "metadata": {},
     "output_type": "execute_result"
    },
    {
     "data": {
      "image/png": "[encoded data removed]",
      "text/plain": [
       "<Figure size 432x288 with 1 Axes>"
      ]
     },
     "metadata": {
      "needs_background": "light"
     },
     "output_type": "display_data"
    }
   ],
   "source": [
    "#box-whisker plot 으로 확인\n",
    "data.boxplot(column='salary', return_type='both')\n",
    "#data.boxplot(column='sales, return_type='both')\n",
    "#data.boxplot(column='roe', return_type='both')"
   ]
  },
  {
   "cell_type": "code",
   "execution_count": 68,
   "id": "f4b3e334",
   "metadata": {},
   "outputs": [
    {
     "data": {
      "text/plain": [
       "671.0"
      ]
     },
     "execution_count": 68,
     "metadata": {},
     "output_type": "execute_result"
    }
   ],
   "source": [
    "Q1_salary=data['salary'].quantile(q=0.25)\n",
    "Q3_salary=data['salary'].quantile(q=0.75)\n",
    "IQR_salary=Q3_salary-Q1_salary\n",
    "IQR_salary"
   ]
  },
  {
   "cell_type": "code",
   "execution_count": 69,
   "id": "2c62be42",
   "metadata": {},
   "outputs": [],
   "source": [
    "#IQR의 1.5배 +,_시켜서 이상치 제거한다 salary 기준\n",
    "data_IQR = data[(data['salary'] < Q3_salary+1.5*IQR_salary) & (data['salary']>Q1_salary-1.5*IQR_salary)]"
   ]
  },
  {
   "cell_type": "code",
   "execution_count": 70,
   "id": "c4439f72",
   "metadata": {},
   "outputs": [
    {
     "data": {
      "text/plain": [
       "<AxesSubplot:>"
      ]
     },
     "execution_count": 70,
     "metadata": {},
     "output_type": "execute_result"
    },
    {
     "data": {
      "image/png": "[encoded data removed]",
      "text/plain": [
       "<Figure size 432x288 with 1 Axes>"
      ]
     },
     "metadata": {
      "needs_background": "light"
     },
     "output_type": "display_data"
    }
   ],
   "source": [
    "data_IQR['salary'].hist()"
   ]
  },
  {
   "cell_type": "code",
   "execution_count": 71,
   "id": "500cf278",
   "metadata": {},
   "outputs": [
    {
     "data": {
      "text/plain": [
       "array([[<AxesSubplot:title={'center':'salary'}>,\n",
       "        <AxesSubplot:title={'center':'sales'}>],\n",
       "       [<AxesSubplot:title={'center':'roe'}>, <AxesSubplot:>]],\n",
       "      dtype=object)"
      ]
     },
     "execution_count": 71,
     "metadata": {},
     "output_type": "execute_result"
    },
    {
     "data": {
      "image/png": "[encoded data removed]",
      "text/plain": [
       "<Figure size 1440x1080 with 4 Axes>"
      ]
     },
     "metadata": {
      "needs_background": "light"
     },
     "output_type": "display_data"
    }
   ],
   "source": [
    "data_IQR.hist(bins=50, figsize=(20,15))"
   ]
  },
  {
   "cell_type": "code",
   "execution_count": 72,
   "id": "c7c19045",
   "metadata": {},
   "outputs": [
    {
     "data": {
      "text/html": [
       "<div>\n",
       "<style scoped>\n",
       "    .dataframe tbody tr th:only-of-type {\n",
       "        vertical-align: middle;\n",
       "    }\n",
       "\n",
       "    .dataframe tbody tr th {\n",
       "        vertical-align: top;\n",
       "    }\n",
       "\n",
       "    .dataframe thead th {\n",
       "        text-align: right;\n",
       "    }\n",
       "</style>\n",
       "<table border=\"1\" class=\"dataframe\">\n",
       "  <thead>\n",
       "    <tr style=\"text-align: right;\">\n",
       "      <th></th>\n",
       "      <th>salary</th>\n",
       "      <th>sales</th>\n",
       "      <th>roe</th>\n",
       "    </tr>\n",
       "  </thead>\n",
       "  <tbody>\n",
       "    <tr>\n",
       "      <th>salary</th>\n",
       "      <td>1.000000</td>\n",
       "      <td>0.335446</td>\n",
       "      <td>0.289704</td>\n",
       "    </tr>\n",
       "    <tr>\n",
       "      <th>sales</th>\n",
       "      <td>0.335446</td>\n",
       "      <td>1.000000</td>\n",
       "      <td>-0.065034</td>\n",
       "    </tr>\n",
       "    <tr>\n",
       "      <th>roe</th>\n",
       "      <td>0.289704</td>\n",
       "      <td>-0.065034</td>\n",
       "      <td>1.000000</td>\n",
       "    </tr>\n",
       "  </tbody>\n",
       "</table>\n",
       "</div>"
      ],
      "text/plain": [
       "          salary     sales       roe\n",
       "salary  1.000000  0.335446  0.289704\n",
       "sales   0.335446  1.000000 -0.065034\n",
       "roe     0.289704 -0.065034  1.000000"
      ]
     },
     "execution_count": 72,
     "metadata": {},
     "output_type": "execute_result"
    }
   ],
   "source": [
    "data_IQR.corr()"
   ]
  },
  {
   "cell_type": "code",
   "execution_count": 73,
   "id": "90cea31f",
   "metadata": {},
   "outputs": [
    {
     "data": {
      "text/plain": [
       "<matplotlib.collections.PathCollection at 0x1af78dbbfd0>"
      ]
     },
     "execution_count": 73,
     "metadata": {},
     "output_type": "execute_result"
    },
    {
     "data": {
      "image/png": "[encoded data removed]",
      "text/plain": [
       "<Figure size 432x288 with 1 Axes>"
      ]
     },
     "metadata": {
      "needs_background": "light"
     },
     "output_type": "display_data"
    }
   ],
   "source": [
    "import matplotlib.pyplot as plt\n",
    "plt.scatter(data_IQR['sales'], data_IQR['salary'])"
   ]
  },
  {
   "cell_type": "code",
   "execution_count": 74,
   "id": "44a9c946",
   "metadata": {},
   "outputs": [
    {
     "data": {
      "image/png": "[encoded data removed]",
      "text/plain": [
       "<Figure size 432x288 with 1 Axes>"
      ]
     },
     "metadata": {
      "needs_background": "light"
     },
     "output_type": "display_data"
    }
   ],
   "source": [
    "plt.scatter(data_IQR['roe'], data_IQR['salary'])\n",
    "plt.show()"
   ]
  },
  {
   "cell_type": "code",
   "execution_count": 75,
   "id": "40118984",
   "metadata": {},
   "outputs": [
    {
     "data": {
      "text/plain": [
       "4966.6999511718695"
      ]
     },
     "execution_count": 75,
     "metadata": {},
     "output_type": "execute_result"
    }
   ],
   "source": [
    "#IQR의 1.5배 +,_시켜서 이상치 제거한다 sales 기준\n",
    "Q1_sales=data['sales'].quantile(q=0.25)\n",
    "Q3_sales=data['sales'].quantile(q=0.75)\n",
    "IQR_sales = Q3_sales - Q1_sales\n",
    "IQR_sales\n"
   ]
  },
  {
   "cell_type": "code",
   "execution_count": 76,
   "id": "6f020fc0",
   "metadata": {},
   "outputs": [],
   "source": [
    "#여기가 포인트!!!\n",
    "data_IQR = data[(data['sales'] < Q3_sales+1.5*IQR_sales) & (data['sales']>Q1_sales-1.5*IQR_sales) & \n",
    "               (data['salary'] < Q3_salary+1.5*IQR_salary) & (data['salary']>Q1_salary-1.5*IQR_salary)]"
   ]
  },
  {
   "cell_type": "code",
   "execution_count": 77,
   "id": "0c781cdc",
   "metadata": {},
   "outputs": [
    {
     "data": {
      "text/plain": [
       "<AxesSubplot:>"
      ]
     },
     "execution_count": 77,
     "metadata": {},
     "output_type": "execute_result"
    },
    {
     "data": {
      "image/png": "[encoded data removed]",
      "text/plain": [
       "<Figure size 432x288 with 1 Axes>"
      ]
     },
     "metadata": {
      "needs_background": "light"
     },
     "output_type": "display_data"
    }
   ],
   "source": [
    "data_IQR['sales'].hist()"
   ]
  },
  {
   "cell_type": "code",
   "execution_count": 79,
   "id": "e64211f3",
   "metadata": {},
   "outputs": [
    {
     "data": {
      "text/plain": [
       "array([[<AxesSubplot:title={'center':'salary'}>,\n",
       "        <AxesSubplot:title={'center':'sales'}>],\n",
       "       [<AxesSubplot:title={'center':'roe'}>, <AxesSubplot:>]],\n",
       "      dtype=object)"
      ]
     },
     "execution_count": 79,
     "metadata": {},
     "output_type": "execute_result"
    },
    {
     "data": {
      "image/png": "[encoded data removed]",
      "text/plain": [
       "<Figure size 1440x1080 with 4 Axes>"
      ]
     },
     "metadata": {
      "needs_background": "light"
     },
     "output_type": "display_data"
    }
   ],
   "source": [
    "data_IQR.hist(bins=50, figsize=(20,15))"
   ]
  },
  {
   "cell_type": "code",
   "execution_count": 80,
   "id": "dae16be1",
   "metadata": {},
   "outputs": [
    {
     "data": {
      "text/html": [
       "<div>\n",
       "<style scoped>\n",
       "    .dataframe tbody tr th:only-of-type {\n",
       "        vertical-align: middle;\n",
       "    }\n",
       "\n",
       "    .dataframe tbody tr th {\n",
       "        vertical-align: top;\n",
       "    }\n",
       "\n",
       "    .dataframe thead th {\n",
       "        text-align: right;\n",
       "    }\n",
       "</style>\n",
       "<table border=\"1\" class=\"dataframe\">\n",
       "  <thead>\n",
       "    <tr style=\"text-align: right;\">\n",
       "      <th></th>\n",
       "      <th>salary</th>\n",
       "      <th>sales</th>\n",
       "      <th>roe</th>\n",
       "    </tr>\n",
       "  </thead>\n",
       "  <tbody>\n",
       "    <tr>\n",
       "      <th>salary</th>\n",
       "      <td>1.000000</td>\n",
       "      <td>0.471278</td>\n",
       "      <td>0.299153</td>\n",
       "    </tr>\n",
       "    <tr>\n",
       "      <th>sales</th>\n",
       "      <td>0.471278</td>\n",
       "      <td>1.000000</td>\n",
       "      <td>-0.076046</td>\n",
       "    </tr>\n",
       "    <tr>\n",
       "      <th>roe</th>\n",
       "      <td>0.299153</td>\n",
       "      <td>-0.076046</td>\n",
       "      <td>1.000000</td>\n",
       "    </tr>\n",
       "  </tbody>\n",
       "</table>\n",
       "</div>"
      ],
      "text/plain": [
       "          salary     sales       roe\n",
       "salary  1.000000  0.471278  0.299153\n",
       "sales   0.471278  1.000000 -0.076046\n",
       "roe     0.299153 -0.076046  1.000000"
      ]
     },
     "execution_count": 80,
     "metadata": {},
     "output_type": "execute_result"
    }
   ],
   "source": [
    "data_IQR.corr()"
   ]
  },
  {
   "cell_type": "code",
   "execution_count": null,
   "id": "5173893f",
   "metadata": {},
   "outputs": [],
   "source": []
  },
  {
   "cell_type": "code",
   "execution_count": null,
   "id": "71e46336",
   "metadata": {},
   "outputs": [],
   "source": []
  },
  {
   "cell_type": "code",
   "execution_count": null,
   "id": "8669922d",
   "metadata": {},
   "outputs": [],
   "source": []
  },
  {
   "cell_type": "code",
   "execution_count": null,
   "id": "d7e19772",
   "metadata": {},
   "outputs": [],
   "source": []
  },
  {
   "cell_type": "code",
   "execution_count": null,
   "id": "34fcda2c",
   "metadata": {},
   "outputs": [],
   "source": []
  },
  {
   "cell_type": "code",
   "execution_count": null,
   "id": "52ff8a64",
   "metadata": {},
   "outputs": [],
   "source": []
  },
  {
   "cell_type": "code",
   "execution_count": null,
   "id": "b1c7fc47",
   "metadata": {},
   "outputs": [],
   "source": []
  },
  {
   "cell_type": "code",
   "execution_count": null,
   "id": "fe113ab2",
   "metadata": {},
   "outputs": [],
   "source": []
  },
  {
   "cell_type": "code",
   "execution_count": null,
   "id": "36fa20ce",
   "metadata": {},
   "outputs": [],
   "source": []
  },
  {
   "cell_type": "code",
   "execution_count": null,
   "id": "208190c6",
   "metadata": {},
   "outputs": [],
   "source": []
  },
  {
   "cell_type": "code",
   "execution_count": null,
   "id": "34285b23",
   "metadata": {},
   "outputs": [],
   "source": []
  },
  {
   "cell_type": "code",
   "execution_count": null,
   "id": "5bc67fd6",
   "metadata": {},
   "outputs": [],
   "source": []
  },
  {
   "cell_type": "code",
   "execution_count": null,
   "id": "1ac733a5",
   "metadata": {},
   "outputs": [],
   "source": []
  }
 ],
 "metadata": {
  "kernelspec": {
   "display_name": "Python 3",
   "language": "python",
   "name": "python3"
  },
  "language_info": {
   "codemirror_mode": {
    "name": "ipython",
    "version": 3
   },
   "file_extension": ".py",
   "mimetype": "text/x-python",
   "name": "python",
   "nbconvert_exporter": "python",
   "pygments_lexer": "ipython3",
   "version": "3.8.8"
  }
 },
 "nbformat": 4,
 "nbformat_minor": 5
}

{
 "cells": [
  {
   "cell_type": "markdown",
   "id": "f9d391a9",
   "metadata": {},
   "source": [
    "## 작업형 2-1\n",
    "\n",
    "#### 다음은 Boston Housing 데이터셋이다. crim 항목의 상위에서 10번째 값 (즉, 상위 10번째 값 중에서 가장 작은 값)으로 상위 10개의 값을 변환하고 age 80 이상인 값에 대하여 crim 평균을 구하시오"
   ]
  },
  {
   "cell_type": "code",
   "execution_count": 1,
   "id": "334880e6",
   "metadata": {},
   "outputs": [
    {
     "name": "stdout",
     "output_type": "stream",
     "text": [
      "5.759386624999999\n"
     ]
    }
   ],
   "source": [
    "import pandas as pd\n",
    "data=pd.read_csv('boston_housing.csv')\n",
    "# print(data.sort_values(by='crim', ascending=False))\n",
    "data_sort=data.sort_values(by='crim', ascending=False)\n",
    "# print(data_sort.head(12))\n",
    "\n",
    "def recode(series):\n",
    "    if series>=25.9406:\n",
    "        return 25.9406\n",
    "    else:\n",
    "        return series\n",
    "\n",
    "data_sort['re_crim']=data_sort['crim'].apply(recode)\n",
    "# print(data_sort.head(20))\n",
    "\n",
    "data_80 = data_sort[data_sort['age'] >=80]\n",
    "# print(data_80.head(50))\n",
    "print(data_80['re_crim'].mean())"
   ]
  },
  {
   "cell_type": "code",
   "execution_count": 1,
   "id": "82a45c53",
   "metadata": {},
   "outputs": [],
   "source": [
    "import pandas as pd\n",
    "data=pd.read_csv('boston_housing.csv')\n",
    "data_sort=data.sort_values(by='crim', ascending=False)"
   ]
  },
  {
   "cell_type": "code",
   "execution_count": 2,
   "id": "bd2692eb",
   "metadata": {},
   "outputs": [
    {
     "name": "stdout",
     "output_type": "stream",
     "text": [
      "        crim   zn  indus  chas    nox     rm    age     dis  rad  tax  pratio  \\\n",
      "380  88.9762  0.0   18.1     0  0.671  6.968   91.9  1.4165   24  666    20.2   \n",
      "418  73.5341  0.0   18.1     0  0.679  5.957  100.0  1.8026   24  666    20.2   \n",
      "405  67.9208  0.0   18.1     0  0.693  5.683  100.0  1.4254   24  666    20.2   \n",
      "410  51.1358  0.0   18.1     0  0.597  5.757  100.0  1.4130   24  666    20.2   \n",
      "414  45.7461  0.0   18.1     0  0.693  4.519  100.0  1.6582   24  666    20.2   \n",
      "404  41.5292  0.0   18.1     0  0.693  5.531   85.4  1.6074   24  666    20.2   \n",
      "398  38.3518  0.0   18.1     0  0.693  5.453  100.0  1.4896   24  666    20.2   \n",
      "427  37.6619  0.0   18.1     0  0.679  6.202   78.7  1.8629   24  666    20.2   \n",
      "413  28.6558  0.0   18.1     0  0.597  5.155  100.0  1.5894   24  666    20.2   \n",
      "417  25.9406  0.0   18.1     0  0.679  5.304   89.1  1.6475   24  666    20.2   \n",
      "400  25.0461  0.0   18.1     0  0.693  5.987  100.0  1.5888   24  666    20.2   \n",
      "403  24.8017  0.0   18.1     0  0.693  5.349   96.0  1.7028   24  666    20.2   \n",
      "\n",
      "          b  lstat  medv  \n",
      "380  396.90  17.21  10.4  \n",
      "418   16.45  20.62   8.8  \n",
      "405  384.97  22.98   5.0  \n",
      "410    2.60  10.11  15.0  \n",
      "414   88.27  36.98   7.0  \n",
      "404  329.46  27.38   8.5  \n",
      "398  396.90  30.59   5.0  \n",
      "427   18.82  14.52  10.9  \n",
      "413  210.97  20.08  16.3  \n",
      "417  127.36  26.64  10.4  \n",
      "400  396.90  26.77   5.6  \n",
      "403  396.90  19.77   8.3  \n"
     ]
    }
   ],
   "source": [
    "print(data_sort.head(12))"
   ]
  }
 ],
 "metadata": {
  "kernelspec": {
   "display_name": "Python 3",
   "language": "python",
   "name": "python3"
  },
  "language_info": {
   "codemirror_mode": {
    "name": "ipython",
    "version": 3
   },
   "file_extension": ".py",
   "mimetype": "text/x-python",
   "name": "python",
   "nbconvert_exporter": "python",
   "pygments_lexer": "ipython3",
   "version": "3.8.8"
  }
 },
 "nbformat": 4,
 "nbformat_minor": 5
}

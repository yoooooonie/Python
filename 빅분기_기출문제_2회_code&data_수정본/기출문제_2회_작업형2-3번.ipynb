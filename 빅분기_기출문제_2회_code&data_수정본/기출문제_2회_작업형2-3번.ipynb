{
 "cells": [
  {
   "attachments": {},
   "cell_type": "markdown",
   "id": "f9d391a9",
   "metadata": {},
   "source": [
    "## 작업형 2-3\n",
    "\n",
    "#### 다음은 Insurance 데이터셋이다. charges 항목의 이상값의 합을 구하시오\n",
    "##### (이상값은 평균에서 1.5표준편차 이상인 값)"
   ]
  },
  {
   "cell_type": "code",
   "execution_count": 1,
   "id": "334880e6",
   "metadata": {},
   "outputs": [
    {
     "name": "stdout",
     "output_type": "stream",
     "text": [
      "6421430.0206699995\n"
     ]
    }
   ],
   "source": [
    "import pandas as pd\n",
    "data=pd.read_csv('insurance.csv')\n",
    "# print(data.info())\n",
    "# print(data['charges'].describe())\n",
    "mean=data['charges'].mean()\n",
    "std=data['charges'].std()\n",
    "# print(mean)\n",
    "# print(std)\n",
    "re_data=data[(data['charges']>=mean+1.5*std)|(data['charges']<=mean-1.5*std)]\n",
    "print(re_data['charges'].sum())"
   ]
  },
  {
   "cell_type": "code",
   "execution_count": null,
   "id": "82a45c53",
   "metadata": {},
   "outputs": [],
   "source": []
  }
 ],
 "metadata": {
  "kernelspec": {
   "display_name": "Python 3",
   "language": "python",
   "name": "python3"
  },
  "language_info": {
   "codemirror_mode": {
    "name": "ipython",
    "version": 3
   },
   "file_extension": ".py",
   "mimetype": "text/x-python",
   "name": "python",
   "nbconvert_exporter": "python",
   "pygments_lexer": "ipython3",
   "version": "3.8.8"
  }
 },
 "nbformat": 4,
 "nbformat_minor": 5
}

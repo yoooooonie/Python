{
 "cells": [
  {
   "cell_type": "markdown",
   "id": "f9d391a9",
   "metadata": {},
   "source": [
    "## 작업형 3\n",
    "\n",
    "#### 아래 E-Commerce Shipping Data의 train set을 참조하여 고객이 주문한 물품의 정시 도착 여부를 예측하시오. \n",
    "#### (ID와 예측치를 csv 파일로 저장하여 제출하시오)"
   ]
  },
  {
   "cell_type": "code",
   "execution_count": 1,
   "id": "87930e98",
   "metadata": {},
   "outputs": [],
   "source": [
    "import pandas as pd\n",
    "test = pd.read_csv(\"X_test.csv\")\n",
    "X = pd.read_csv(\"X_train.csv\")\n",
    "y = pd.read_csv(\"y_train.csv\")\n",
    "\n",
    "X_num = X[['Customer_care_calls', 'Customer_rating', 'Cost_of_the_Product', 'Prior_purchases', 'Discount_offered', 'Weight_in_gms']]\n",
    "X_cat = X[['Warehouse_block', 'Mode_of_Shipment', 'Product_importance', 'Gender']]\n",
    "X_cat=pd.get_dummies(X_cat)\n",
    "\n",
    "test_num = test[['Customer_care_calls', 'Customer_rating', 'Cost_of_the_Product', 'Prior_purchases', 'Discount_offered', 'Weight_in_gms']]\n",
    "test_cat = test[['Warehouse_block', 'Mode_of_Shipment', 'Product_importance', 'Gender']]\n",
    "test_cat = pd.get_dummies(test_cat)\n",
    "\n",
    "X_cat, test_cat = X_cat.align(test_cat, join='inner', axis=1)\n",
    "\n",
    "from sklearn.preprocessing import MinMaxScaler\n",
    "minmax=MinMaxScaler()\n",
    "minmax.fit(X_num)\n",
    "X_scaled=minmax.transform(X_num)\n",
    "test_scaled=minmax.transform(test_num)\n",
    "\n",
    "X_final = pd.concat([pd.DataFrame(X_scaled), X_cat], axis=1)\n",
    "test_final = pd.concat([pd.DataFrame(test_scaled), test_cat], axis=1)\n",
    "\n",
    "y = y['Reached.on.Time_Y.N']\n",
    "\n",
    "from sklearn.linear_model import LogisticRegression\n",
    "model=LogisticRegression()\n",
    "model.fit(X_final, y)\n",
    "\n",
    "pred_test=model.predict_proba(test_final)\n",
    "pred_test_prob = pd.DataFrame(pred_test[:, 0], columns = ['predict_prob'])\n",
    "final_predict = pd.concat([test['ID'], pred_test_prob], axis=1)\n",
    "# print(final_predict)\n",
    "final_predict.to_csv(\"20211204.csv\", index=False)"
   ]
  },
  {
   "cell_type": "code",
   "execution_count": null,
   "id": "8248111e",
   "metadata": {},
   "outputs": [],
   "source": []
  }
 ],
 "metadata": {
  "kernelspec": {
   "display_name": "Python 3",
   "language": "python",
   "name": "python3"
  },
  "language_info": {
   "codemirror_mode": {
    "name": "ipython",
    "version": 3
   },
   "file_extension": ".py",
   "mimetype": "text/x-python",
   "name": "python",
   "nbconvert_exporter": "python",
   "pygments_lexer": "ipython3",
   "version": "3.8.8"
  }
 },
 "nbformat": 4,
 "nbformat_minor": 5
}

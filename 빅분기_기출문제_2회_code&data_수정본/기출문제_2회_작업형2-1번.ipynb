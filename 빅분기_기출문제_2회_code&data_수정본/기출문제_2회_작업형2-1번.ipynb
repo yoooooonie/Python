{
 "cells": [
  {
   "cell_type": "markdown",
   "id": "f9d391a9",
   "metadata": {},
   "source": [
    "## 작업형 2-1\n",
    "\n",
    "#### 다음은 Boston Housing 데이터셋이다. crim 항목의 상위에서 10번째 값 (즉, 상위 10번째 값 중에서 가장 작은 값)으로 상위 10개의 값을 변환하고 age 80 이상인 값에 대하여 crim 평균을 구하시오"
   ]
  },
  {
   "cell_type": "code",
   "execution_count": 1,
   "id": "334880e6",
   "metadata": {},
   "outputs": [
    {
     "name": "stdout",
     "output_type": "stream",
     "text": [
      "5.759386624999999\n"
     ]
    }
   ],
   "source": [
    "import pandas as pd\n",
    "data=pd.read_csv('boston_housing.csv')\n",
    "# print(data.sort_values(by='crim', ascending=False))\n",
    "data_sort=data.sort_values(by='crim', ascending=False)\n",
    "# print(data_sort.head(12))\n",
    "\n",
    "def recode(series):\n",
    "    if series>=25.9406:\n",
    "        return 25.9406\n",
    "    else:\n",
    "        return series\n",
    "\n",
    "data_sort['re_crim']=data_sort['crim'].apply(recode)\n",
    "# print(data_sort.head(20))\n",
    "\n",
    "data_80 = data_sort[data_sort['age'] >=80]\n",
    "# print(data_80.head(50))\n",
    "print(data_80['re_crim'].mean())"
   ]
  },
  {
   "cell_type": "code",
   "execution_count": null,
   "id": "82a45c53",
   "metadata": {},
   "outputs": [],
   "source": []
  }
 ],
 "metadata": {
  "kernelspec": {
   "display_name": "Python 3",
   "language": "python",
   "name": "python3"
  },
  "language_info": {
   "codemirror_mode": {
    "name": "ipython",
    "version": 3
   },
   "file_extension": ".py",
   "mimetype": "text/x-python",
   "name": "python",
   "nbconvert_exporter": "python",
   "pygments_lexer": "ipython3",
   "version": "3.8.8"
  }
 },
 "nbformat": 4,
 "nbformat_minor": 5
}

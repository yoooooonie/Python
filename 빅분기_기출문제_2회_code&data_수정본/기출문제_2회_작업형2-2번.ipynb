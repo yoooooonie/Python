{
 "cells": [
  {
   "cell_type": "markdown",
   "id": "f9d391a9",
   "metadata": {},
   "source": [
    "## 작업형 2-2\n",
    "\n",
    "#### 주어진 데이터의 첫 번째 행부터 순서대로 80%까지의 데이터를 훈련 데이터로 추출 후 ‘total_bedrooms’ 변수의 결측값(NA)을 ‘total_bedrooms’ 변수의 중앙값으로 대체하고 대체 전의 ‘total_bedrooms’ 변수 표준편차 값의 차이의 절댓값을 구하시오"
   ]
  },
  {
   "cell_type": "code",
   "execution_count": 1,
   "id": "334880e6",
   "metadata": {},
   "outputs": [
    {
     "name": "stdout",
     "output_type": "stream",
     "text": [
      "1.975147291645726\n"
     ]
    },
    {
     "name": "stderr",
     "output_type": "stream",
     "text": [
      "<ipython-input-1-eab5170016a1>:8: FutureWarning: Dropping of nuisance columns in DataFrame reductions (with 'numeric_only=None') is deprecated; in a future version this will raise TypeError.  Select only valid columns before calling the reduction.\n",
      "  data_80_fill=data_80.fillna(data_80.median())\n"
     ]
    }
   ],
   "source": [
    "import pandas as pd\n",
    "data=pd.read_csv('california_housing.csv')\n",
    "# print(data.info())\n",
    "data_80=data[:16512]\n",
    "# print(len(data_80))\n",
    "pre_std=data_80['total_bedrooms'].std()\n",
    "# print(pre_std)\n",
    "data_80_fill=data_80.fillna(data_80.median())\n",
    "post_std=data_80_fill['total_bedrooms'].std()\n",
    "# print(post_std)\n",
    "print(abs(pre_std-post_std))"
   ]
  },
  {
   "cell_type": "code",
   "execution_count": null,
   "id": "82a45c53",
   "metadata": {},
   "outputs": [],
   "source": []
  }
 ],
 "metadata": {
  "kernelspec": {
   "display_name": "Python 3",
   "language": "python",
   "name": "python3"
  },
  "language_info": {
   "codemirror_mode": {
    "name": "ipython",
    "version": 3
   },
   "file_extension": ".py",
   "mimetype": "text/x-python",
   "name": "python",
   "nbconvert_exporter": "python",
   "pygments_lexer": "ipython3",
   "version": "3.8.8"
  }
 },
 "nbformat": 4,
 "nbformat_minor": 5
}
